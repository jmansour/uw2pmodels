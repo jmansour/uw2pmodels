{
 "cells": [
  {
   "cell_type": "markdown",
   "metadata": {},
   "source": [
    "\n",
    "## Analytic Solutions\n",
    "\n",
    "Underworld provides a set of analytic solutions to Stokes flow problems.\n",
    "\n",
    "In this example, analytic solution objects are used to configure the analogous numerical system, with the numerical solution then compared to the exact. "
   ]
  },
  {
   "cell_type": "code",
   "execution_count": 1,
   "metadata": {},
   "outputs": [
    {
     "name": "stdout",
     "output_type": "stream",
     "text": [
      "The history saving thread hit an unexpected error (DatabaseError('database disk image is malformed',)).History will not be written to the database.\n"
     ]
    }
   ],
   "source": [
    "view_soln  = \"all\"\n",
    "view_order = 1\n",
    "view_res   = 32\n",
    "view_show  = False"
   ]
  },
  {
   "cell_type": "code",
   "execution_count": 2,
   "metadata": {},
   "outputs": [],
   "source": [
    "import os\n",
    "os.environ[\"GLUCIFER_USE_XVFB\"]=\"1\""
   ]
  },
  {
   "cell_type": "code",
   "execution_count": 3,
   "metadata": {},
   "outputs": [],
   "source": [
    "import underworld as uw\n",
    "import glucifer\n",
    "from underworld import function as fn\n",
    "import math\n",
    "import numpy as np\n",
    "import collections"
   ]
  },
  {
   "cell_type": "code",
   "execution_count": 4,
   "metadata": {},
   "outputs": [
    {
     "name": "stdout",
     "output_type": "stream",
     "text": [
      "Solution added: SolA\n",
      "Solution added: SolB\n",
      "Solution added: SolC\n",
      "Solution added: SolCx\n",
      "Solution added: SolDA\n",
      "Solution added: SolDB2d\n",
      "Solution added: SolDB3d\n",
      "Solution added: SolH\n",
      "Solution added: SolKx\n",
      "Solution added: SolKz\n",
      "Solution added: SolM\n",
      "Solution added: SolNL\n"
     ]
    }
   ],
   "source": [
    "# Find all available solutions. \n",
    "# Use ordered dict to preserve alphabetical ordering\n",
    "solns_avail = collections.OrderedDict()\n",
    "for soln_name in dir(fn.analytic):\n",
    "    if soln_name[0] == \"_\": continue  # if private member, ignore\n",
    "    # get soln class\n",
    "    soln = getattr(fn.analytic,soln_name)\n",
    "    # check if actually soln\n",
    "    if issubclass(soln, fn.analytic._SolBase):\n",
    "        # construct\n",
    "        if (view_soln==\"all\") or view_soln==soln_name[3:]:\n",
    "            print(\"Solution added: {}\".format(soln_name))\n",
    "            solns_avail[soln_name] = soln()"
   ]
  },
  {
   "cell_type": "code",
   "execution_count": 5,
   "metadata": {},
   "outputs": [],
   "source": [
    "def get_numerical( soln, res=32, order=1, itol=1.e-6, otol=1.e-6 ):\n",
    "    '''\n",
    "    Creates the numerical system corresponding to the provided analytic system.\n",
    "    \n",
    "    Parameters\n",
    "    ----------\n",
    "    soln : uw.function.analytic._SolBase\n",
    "        The analytic system\n",
    "    res : int\n",
    "        System resolution. Same resolution is used for each axis.\n",
    "    order : int\n",
    "        System numerical order. \n",
    "    itol : float\n",
    "        Inner solve tolerance.\n",
    "    otol : float\n",
    "        Outer solve tolerance.\n",
    "\n",
    "        \n",
    "    '''\n",
    "    if order == 1:\n",
    "        els = \"Q1/dQ0\"\n",
    "    elif order == 2:\n",
    "        els = \"Q2/dPc1\"\n",
    "    else:\n",
    "        raise ValueError(\"Provided system order should be 1 or 2.\")\n",
    "\n",
    "    dim = soln.dim\n",
    "    mesh  = uw.mesh.FeMesh_Cartesian(elementType=els, elementRes=(res,)*dim,minCoord=(0.,)*dim,maxCoord=(1.,)*dim)\n",
    "    vel   = uw.mesh.MeshVariable(mesh,dim)\n",
    "    press = uw.mesh.MeshVariable(mesh.subMesh, 1)\n",
    "    vel.data[:]   = (0.,)*dim\n",
    "    press.data[:] = 0.\n",
    "\n",
    "    bcs = soln.get_bcs(vel)\n",
    "    visc = soln.fn_viscosity\n",
    "    if soln.nonlinear==True:\n",
    "        visc = soln.get_viscosity_nl(vel,press)\n",
    "    stokes = uw.systems.Stokes(vel, press, fn_viscosity=visc, fn_bodyforce=soln.fn_bodyforce, conditions=[bcs,])\n",
    "    solver = uw.systems.Solver(stokes)\n",
    "    if uw.mpi.size==1:\n",
    "        solver.set_inner_method(\"lu\")\n",
    "    solver.set_inner_rtol(itol)\n",
    "    solver.set_outer_rtol(otol)\n",
    "    \n",
    "    # if nonlinear, lets first grab a const visc approx soln\n",
    "    if soln.nonlinear==True:\n",
    "        stokes.fn_viscosity = 1.\n",
    "        solver.solve()\n",
    "        stokes.fn_viscosity = visc\n",
    "\n",
    "    return mesh, vel, press, solver"
   ]
  },
  {
   "cell_type": "code",
   "execution_count": 6,
   "metadata": {
    "scrolled": false
   },
   "outputs": [
    {
     "name": "stdout",
     "output_type": "stream",
     "text": [
      "SolA\n",
      "SolB\n",
      "SolC\n",
      "SolCx\n",
      "SolDA\n",
      "SolDB2d\n"
     ]
    },
    {
     "name": "stderr",
     "output_type": "stream",
     "text": [
      "/c/Users/jmansour/uw2_jmansour/underworld/systems/_bsscr.py:477: UserWarning: A PETSc error has been encountered during the solve. Solution fields are possibly erroneous. \n",
      "\n",
      "This error is probably due to an incorrectly constructed linear system. Please check that your boundary conditions are consistent and sufficient and that your viscosity is positive everywhere. If you are deforming the mesh, ensure that it has not become tangled. \n",
      "\n",
      "The resultant KSPConvergedReasons are (f_hat, outer, backsolve) (0,-3,0).\n",
      "\n",
      "\n",
      "  warnings.warn(estring)\n"
     ]
    },
    {
     "name": "stdout",
     "output_type": "stream",
     "text": [
      "SolDB3d\n",
      "SolH\n",
      "SolKx\n",
      "SolKz\n",
      "SolM\n",
      "SolNL\n"
     ]
    }
   ],
   "source": [
    "for view_soln, soln in solns_avail.items():\n",
    "    print(view_soln)\n",
    "\n",
    "    mesh, vel, press, solver = get_numerical( soln, res=view_res, order=view_order  )\n",
    "\n",
    "    if soln.nonlinear:\n",
    "        solver.solve(nonLinearIterate=True)\n",
    "    else:\n",
    "        solver.solve()\n",
    "        \n",
    "    viz_args = {\"border\":3,\n",
    "                \"figsize\":(500,500),\n",
    "                \"margin\":0.05\n",
    "               }\n",
    "    prop_args = {\"resolution\":view_res*5,\n",
    "                 \"colourBar\" :False}\n",
    "    if soln.dim == 3:\n",
    "        prop_args[\"crossSection\"]='z=0.5'\n",
    "\n",
    "# figure for viscosity\n",
    "    fig_viscosity = glucifer.Figure(**viz_args)\n",
    "    fig_viscosity.append(glucifer.objects.Surface(mesh,soln.fn_viscosity,\n",
    "                                                  colours=\"lightgrey black\", onMesh=False, **prop_args ))\n",
    "    if view_show:\n",
    "        print(\"Viscosity:\")\n",
    "        fig_viscosity.show()\n",
    "    fig_viscosity.save(view_soln+\"_viscosity\")\n",
    "\n",
    "# figure for bodyforce\n",
    "    bf_mag = fn.math.sqrt(fn.math.dot(soln.fn_bodyforce,soln.fn_bodyforce))\n",
    "    fig_bodyforce = glucifer.Figure(**viz_args)\n",
    "    fig_bodyforce.append(glucifer.objects.Surface(mesh, bf_mag,\n",
    "                                                  colours=\"white black\",     onMesh=False, **prop_args))\n",
    "    if view_show:\n",
    "        print(\"Body Force:\")\n",
    "        fig_bodyforce.show()\n",
    "    fig_bodyforce.save(view_soln+\"_bodyforce\")\n",
    "\n",
    "# figure for velocity\n",
    "    vel_mag = fn.math.sqrt(fn.math.dot(vel,vel))\n",
    "    fig_vel = glucifer.Figure(**viz_args)\n",
    "    fig_vel.append(glucifer.objects.Surface(mesh,vel_mag,\n",
    "                                                    colours=\"white black\",   onMesh=True, **prop_args))\n",
    "    if view_show: \n",
    "        print(\"Velocity:\")\n",
    "        fig_vel.show()\n",
    "    fig_vel.save(view_soln+\"_velocity\")\n",
    "    \n",
    "# figure for velocity error\n",
    "    vel_mag_err = fn.math.sqrt(fn.math.dot(soln.fn_velocity-vel,soln.fn_velocity-vel))\n",
    "    fig_vel_error = glucifer.Figure(**viz_args)\n",
    "    fig_vel_error.append(glucifer.objects.Surface(mesh,vel_mag_err,\n",
    "                                                    colours=\"white black\",   onMesh=True, **prop_args))\n",
    "    if view_show:\n",
    "        print(\"Velocity Error:\")\n",
    "        fig_vel_error.show()\n",
    "    fig_vel_error.save(view_soln+\"_velocity_error\")\n",
    "\n",
    "# figure for pressure\n",
    "    fig_press = glucifer.Figure(**viz_args)\n",
    "    fig_press.append(glucifer.objects.Surface(mesh,press,\n",
    "                                                  colours=\"white black\",     onMesh=False, **prop_args ))\n",
    "    if view_show:\n",
    "        print(\"Pressure:\")\n",
    "        fig_press.show()\n",
    "    fig_press.save(view_soln+\"_pressure\")\n",
    "\n",
    "# figure for pressure error\n",
    "    # project to get average error across element\n",
    "    proj_press_error = mesh.subMesh.add_variable(1)\n",
    "    press_err = uw.function.math.abs(press - soln.fn_pressure)\n",
    "    projector = uw.utils.MeshVariable_Projection(proj_press_error,press_err)\n",
    "    projector.solve()\n",
    "    fig_press_error = glucifer.Figure(**viz_args)\n",
    "    fig_press_error.append(glucifer.objects.Surface(mesh,proj_press_error,\n",
    "                                                    colours=\"white black\",   onMesh=False, **prop_args ))\n",
    "    if view_show:\n",
    "        print(\"Pressure Error:\")\n",
    "        fig_press_error.show()\n",
    "    fig_press_error.save(view_soln+\"_pressure_error\")"
   ]
  },
  {
   "cell_type": "code",
   "execution_count": 6,
   "metadata": {},
   "outputs": [
    {
     "name": "stdout",
     "output_type": "stream",
     "text": [
      "\\begin{tabu} to \\textwidth {X[0.5,l,m]X[1,c,m]X[1,c,m]X[1,c,m]X[1,c,m]X[1,c,m]X[1,c,m]}\n",
      "\\hline\n",
      " Model   & $\\eta$                                                                       & $\\left| \\mathbf{F} \\right|$                                                  & $\\left| \\mathbf{u}^h \\right|$                                               & $\\left| \\mathbf{u}-\\mathbf{u}^h \\right|$                                          & $p^h$                                                                       & $\\left| p-p^h \\right|$                                                            \\\\\n",
      "\\hline\n",
      " A       & \\includegraphics[height=1.4cm,keepaspectratio]{images/SolA_viscosity.png}    & \\includegraphics[height=1.4cm,keepaspectratio]{images/SolA_bodyforce.png}    & \\includegraphics[height=1.4cm,keepaspectratio]{images/SolA_velocity.png}    & \\includegraphics[height=1.4cm,keepaspectratio]{images/SolA_velocity_error.png}    & \\includegraphics[height=1.4cm,keepaspectratio]{images/SolA_pressure.png}    & \\includegraphics[height=1.4cm,keepaspectratio]{images/SolA_pressure_error.png}    \\\\\n",
      " B       & \\includegraphics[height=1.4cm,keepaspectratio]{images/SolB_viscosity.png}    & \\includegraphics[height=1.4cm,keepaspectratio]{images/SolB_bodyforce.png}    & \\includegraphics[height=1.4cm,keepaspectratio]{images/SolB_velocity.png}    & \\includegraphics[height=1.4cm,keepaspectratio]{images/SolB_velocity_error.png}    & \\includegraphics[height=1.4cm,keepaspectratio]{images/SolB_pressure.png}    & \\includegraphics[height=1.4cm,keepaspectratio]{images/SolB_pressure_error.png}    \\\\\n",
      " C       & \\includegraphics[height=1.4cm,keepaspectratio]{images/SolC_viscosity.png}    & \\includegraphics[height=1.4cm,keepaspectratio]{images/SolC_bodyforce.png}    & \\includegraphics[height=1.4cm,keepaspectratio]{images/SolC_velocity.png}    & \\includegraphics[height=1.4cm,keepaspectratio]{images/SolC_velocity_error.png}    & \\includegraphics[height=1.4cm,keepaspectratio]{images/SolC_pressure.png}    & \\includegraphics[height=1.4cm,keepaspectratio]{images/SolC_pressure_error.png}    \\\\\n",
      " Cx      & \\includegraphics[height=1.4cm,keepaspectratio]{images/SolCx_viscosity.png}   & \\includegraphics[height=1.4cm,keepaspectratio]{images/SolCx_bodyforce.png}   & \\includegraphics[height=1.4cm,keepaspectratio]{images/SolCx_velocity.png}   & \\includegraphics[height=1.4cm,keepaspectratio]{images/SolCx_velocity_error.png}   & \\includegraphics[height=1.4cm,keepaspectratio]{images/SolCx_pressure.png}   & \\includegraphics[height=1.4cm,keepaspectratio]{images/SolCx_pressure_error.png}   \\\\\n",
      " DA      & \\includegraphics[height=1.4cm,keepaspectratio]{images/SolDA_viscosity.png}   & \\includegraphics[height=1.4cm,keepaspectratio]{images/SolDA_bodyforce.png}   & \\includegraphics[height=1.4cm,keepaspectratio]{images/SolDA_velocity.png}   & \\includegraphics[height=1.4cm,keepaspectratio]{images/SolDA_velocity_error.png}   & \\includegraphics[height=1.4cm,keepaspectratio]{images/SolDA_pressure.png}   & \\includegraphics[height=1.4cm,keepaspectratio]{images/SolDA_pressure_error.png}   \\\\\n",
      " DB2d    & \\includegraphics[height=1.4cm,keepaspectratio]{images/SolDB2d_viscosity.png} & \\includegraphics[height=1.4cm,keepaspectratio]{images/SolDB2d_bodyforce.png} & \\includegraphics[height=1.4cm,keepaspectratio]{images/SolDB2d_velocity.png} & \\includegraphics[height=1.4cm,keepaspectratio]{images/SolDB2d_velocity_error.png} & \\includegraphics[height=1.4cm,keepaspectratio]{images/SolDB2d_pressure.png} & \\includegraphics[height=1.4cm,keepaspectratio]{images/SolDB2d_pressure_error.png} \\\\\n",
      " DB3d    & \\includegraphics[height=1.4cm,keepaspectratio]{images/SolDB3d_viscosity.png} & \\includegraphics[height=1.4cm,keepaspectratio]{images/SolDB3d_bodyforce.png} & \\includegraphics[height=1.4cm,keepaspectratio]{images/SolDB3d_velocity.png} & \\includegraphics[height=1.4cm,keepaspectratio]{images/SolDB3d_velocity_error.png} & \\includegraphics[height=1.4cm,keepaspectratio]{images/SolDB3d_pressure.png} & \\includegraphics[height=1.4cm,keepaspectratio]{images/SolDB3d_pressure_error.png} \\\\\n",
      " H       & \\includegraphics[height=1.4cm,keepaspectratio]{images/SolH_viscosity.png}    & \\includegraphics[height=1.4cm,keepaspectratio]{images/SolH_bodyforce.png}    & \\includegraphics[height=1.4cm,keepaspectratio]{images/SolH_velocity.png}    & \\includegraphics[height=1.4cm,keepaspectratio]{images/SolH_velocity_error.png}    & \\includegraphics[height=1.4cm,keepaspectratio]{images/SolH_pressure.png}    & \\includegraphics[height=1.4cm,keepaspectratio]{images/SolH_pressure_error.png}    \\\\\n",
      " Kx      & \\includegraphics[height=1.4cm,keepaspectratio]{images/SolKx_viscosity.png}   & \\includegraphics[height=1.4cm,keepaspectratio]{images/SolKx_bodyforce.png}   & \\includegraphics[height=1.4cm,keepaspectratio]{images/SolKx_velocity.png}   & \\includegraphics[height=1.4cm,keepaspectratio]{images/SolKx_velocity_error.png}   & \\includegraphics[height=1.4cm,keepaspectratio]{images/SolKx_pressure.png}   & \\includegraphics[height=1.4cm,keepaspectratio]{images/SolKx_pressure_error.png}   \\\\\n",
      " Kz      & \\includegraphics[height=1.4cm,keepaspectratio]{images/SolKz_viscosity.png}   & \\includegraphics[height=1.4cm,keepaspectratio]{images/SolKz_bodyforce.png}   & \\includegraphics[height=1.4cm,keepaspectratio]{images/SolKz_velocity.png}   & \\includegraphics[height=1.4cm,keepaspectratio]{images/SolKz_velocity_error.png}   & \\includegraphics[height=1.4cm,keepaspectratio]{images/SolKz_pressure.png}   & \\includegraphics[height=1.4cm,keepaspectratio]{images/SolKz_pressure_error.png}   \\\\\n",
      " M       & \\includegraphics[height=1.4cm,keepaspectratio]{images/SolM_viscosity.png}    & \\includegraphics[height=1.4cm,keepaspectratio]{images/SolM_bodyforce.png}    & \\includegraphics[height=1.4cm,keepaspectratio]{images/SolM_velocity.png}    & \\includegraphics[height=1.4cm,keepaspectratio]{images/SolM_velocity_error.png}    & \\includegraphics[height=1.4cm,keepaspectratio]{images/SolM_pressure.png}    & \\includegraphics[height=1.4cm,keepaspectratio]{images/SolM_pressure_error.png}    \\\\\n",
      " NL      & \\includegraphics[height=1.4cm,keepaspectratio]{images/SolNL_viscosity.png}   & \\includegraphics[height=1.4cm,keepaspectratio]{images/SolNL_bodyforce.png}   & \\includegraphics[height=1.4cm,keepaspectratio]{images/SolNL_velocity.png}   & \\includegraphics[height=1.4cm,keepaspectratio]{images/SolNL_velocity_error.png}   & \\includegraphics[height=1.4cm,keepaspectratio]{images/SolNL_pressure.png}   & \\includegraphics[height=1.4cm,keepaspectratio]{images/SolNL_pressure_error.png}   \\\\\n",
      "\\hline\n",
      "\\end{tabu}\n"
     ]
    }
   ],
   "source": [
    "latex = True\n",
    "if uw.mpi.rank==0 and latex:\n",
    "    rows = []\n",
    "    header = []\n",
    "    im_options=\"height=1.4cm,keepaspectratio\"\n",
    "    for solname,solval  in solns_avail.items():\n",
    "        row = []\n",
    "        header.append(\"Model\")\n",
    "        row.append(solname[3:])              \n",
    "        header.append(\"$\\\\eta$\")\n",
    "        row.append(\"\\includegraphics[{0}]{{images/{1}}}\".format(im_options,solname+\"_viscosity.png\"))\n",
    "        header.append(\"$\\\\left| \\mathbf{F} \\\\right|$\")\n",
    "        row.append(\"\\includegraphics[{0}]{{images/{1}}}\".format(im_options,solname+\"_bodyforce.png\"))\n",
    "        header.append(\"$\\\\left| \\mathbf{u}^h \\\\right|$\")\n",
    "        row.append(\"\\includegraphics[{0}]{{images/{1}}}\".format(im_options,solname+\"_velocity.png\"))\n",
    "        header.append(\"$\\\\left| \\mathbf{u}-\\mathbf{u}^h \\\\right|$\")\n",
    "        row.append(\"\\includegraphics[{0}]{{images/{1}}}\".format(im_options,solname+\"_velocity_error.png\"))\n",
    "        header.append(\"$p^h$\")\n",
    "        row.append(\"\\includegraphics[{0}]{{images/{1}}}\".format(im_options,solname+\"_pressure.png\"))\n",
    "        header.append(\"$\\\\left| p-p^h \\\\right|$\")\n",
    "        row.append(\"\\includegraphics[{0}]{{images/{1}}}\".format(im_options,solname+\"_pressure_error.png\"))\n",
    "\n",
    "        rows.append(row)\n",
    "\n",
    "    import tabulate\n",
    "    tabulate.LATEX_ESCAPE_RULES={}\n",
    "    tabstring = tabulate.tabulate(rows, tablefmt='latex_raw',floatfmt=\".2f\",headers=header)\n",
    "    tabstring = tabstring.replace(\"tabular\", \"tabu\")\n",
    "    tabstring = tabstring.replace(\"{lllllll}\",\" to \\\\textwidth {X[0.5,l,m]X[1,c,m]X[1,c,m]X[1,c,m]X[1,c,m]X[1,c,m]X[1,c,m]}\")\n",
    "    print(tabstring)"
   ]
  },
  {
   "cell_type": "code",
   "execution_count": null,
   "metadata": {},
   "outputs": [],
   "source": []
  }
 ],
 "metadata": {
  "kernelspec": {
   "display_name": "Python 3",
   "language": "python",
   "name": "python3"
  },
  "language_info": {
   "codemirror_mode": {
    "name": "ipython",
    "version": 3
   },
   "file_extension": ".py",
   "mimetype": "text/x-python",
   "name": "python",
   "nbconvert_exporter": "python",
   "pygments_lexer": "ipython3",
   "version": "3.5.3"
  }
 },
 "nbformat": 4,
 "nbformat_minor": 1
}
